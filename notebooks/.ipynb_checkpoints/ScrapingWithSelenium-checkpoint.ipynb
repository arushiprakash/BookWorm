{
 "cells": [
  {
   "cell_type": "markdown",
   "metadata": {},
   "source": [
    "# Web Scraping GoodReads.com with Selenium/Python\n",
    "For a write-up, check out the blog post write-up here: https://readingtheroad.wordpress.com/2019/08/11/web-scraping-in-python-using-selenium/"
   ]
  },
  {
   "cell_type": "markdown",
   "metadata": {},
   "source": [
    "## Importing libraries"
   ]
  },
  {
   "cell_type": "code",
   "execution_count": 1,
   "metadata": {},
   "outputs": [],
   "source": [
    "# Selenium for controlling web-browsers\n",
    "from selenium import webdriver\n",
    "# For data storage and manipulation\n",
    "import pandas as pd\n",
    "# For regex\n",
    "import re\n",
    "\n",
    "EXE_PATH = \"/Users/aprakash/Documents/personal/chromedriver\""
   ]
  },
  {
   "cell_type": "markdown",
   "metadata": {},
   "source": [
    "## Helper functions"
   ]
  },
  {
   "cell_type": "code",
   "execution_count": 2,
   "metadata": {
    "code_folding": []
   },
   "outputs": [],
   "source": [
    "def goodreads_login(driver, username, password):\n",
    "    \"\"\" Log into page\n",
    "    Assuming that the user is on the login page, log in with credentials\n",
    "    \n",
    "    Args:\n",
    "    driver(object): selenium browser object\n",
    "    username(str): username\n",
    "    password(str): password\n",
    "    \n",
    "    Returns:\n",
    "    None\n",
    "    \"\"\"\n",
    "    driver.find_element_by_id(\"user_email\").send_keys(username)\n",
    "    driver.find_element_by_id(\"user_password\").send_keys(password)\n",
    "    driver.find_element_by_name(\"next\").click()\n",
    "    \n",
    "    \n",
    "def go_to_page(driver, pagename):\n",
    "    \"\"\"Navigate to the webpage of choice in current tab\n",
    "    \"\"\"\n",
    "    driver.get(pagename)\n",
    "    \n",
    "    \n",
    "def click_till_disabled(driver, class_name):\n",
    "    \"\"\"Click element of class name, unless disabled.\n",
    "    Given an open page, it clicks on buttons with the class name till not disabled.\n",
    "    \n",
    "    Args:\n",
    "    driver(object): selenium browser object\n",
    "    class_name(str): class name of the button to be clicked\n",
    "    \n",
    "    Returns:\n",
    "    bool: success of clicking\n",
    "    \"\"\"\n",
    "    import selenium.common.exceptions as selexcept \n",
    "    try:\n",
    "        els = driver.find_element_by_class_name(class_name)\n",
    "        if 'disabled' in els.get_attribute('class'):\n",
    "            return False\n",
    "        els.click()\n",
    "    except selexcept.NoSuchElementException:\n",
    "        return False\n",
    "    return True\n",
    "\n",
    "\n",
    "def open_new_tab(driver, page_name, tab_location):\n",
    "    \"\"\"Opens a new tab and switches focus to it.\n",
    "    From the current tab, opens a new tab at the end and switches focus to it\n",
    "    \n",
    "    Args:\n",
    "    driver(object): selenium browser object\n",
    "    page_name(str): url to be opened in this tab\n",
    "    tab_location(int): index where the tab needs to be opened\n",
    "    \n",
    "    Returns:\n",
    "    None\n",
    "    \"\"\"\n",
    "    # Opened a new tab\n",
    "    driver.execute_script('''window.open(\"about:blank\", \"_blank\");''')\n",
    "    # Switched focus to the new tab\n",
    "    driver.switch_to_window(driver.window_handles[tab_location])\n",
    "    # Opened the user profile\n",
    "    driver.get(page_name)\n",
    "    \n",
    "    \n",
    "def regex_token(text, prefix, suffix):\n",
    "    \"\"\"Extract a token from string\n",
    "    Extract (with regex) the first occurence of group between prefix and suffix\n",
    "    \n",
    "    Args:\n",
    "    text(str): string in which token exists\n",
    "    prefix(str): string pattern before token\n",
    "    suffix(str): string pattern after token\n",
    "    \n",
    "    Returns:\n",
    "    string: extracted token\n",
    "    \"\"\"\n",
    "    extracted_ = re.search(prefix+r'(.*?)'+suffix, text).group(1)\n",
    "    return extracted_\n",
    "\n",
    "\n",
    "def get_book_genre(driver, href):\n",
    "    \"\"\"Open book details page and get genres\n",
    "    Open goodreads.com page in new tab that list book details, and extract book genres\n",
    "    \n",
    "    Args:\n",
    "    driver(object): selenium browser object\n",
    "    href(str): link to book page\n",
    "    \n",
    "    Returns:\n",
    "    list(str): list of genres associated with book\n",
    "    \"\"\"\n",
    "    n_tabs = len(driver.window_handles)\n",
    "    open_new_tab(driver, href, n_tabs)\n",
    "    \n",
    "    els = driver.find_elements_by_class_name('actionLinkLite.bookPageGenreLink')\n",
    "    genres = []\n",
    "    for el in els:\n",
    "        if 'users' not in el.text:\n",
    "            genres.append(el.text)\n",
    "\n",
    "    driver.close()\n",
    "    driver.switch_to_window(driver.window_handles[n_tabs - 1])\n",
    "    return genres\n",
    "\n",
    "\n",
    "def get_books_on_page(driver):\n",
    "    \"\"\"Given a GoodReads.com page listing books, return book information.\n",
    "    Finds all books on the webpage and collects names and hyperlinks for each book\n",
    "    \n",
    "    Args:\n",
    "    driver(object): selenium browser object\n",
    "    \n",
    "    Returns:\n",
    "    Pandas DataFrmae(object): list of book names and hyperlinks\n",
    "    \"\"\"\n",
    "    \n",
    "    column_names = ['Book Name', 'Book Link']\n",
    "    data = pd.DataFrame(columns=column_names)\n",
    "    els = driver.find_elements_by_class_name('field.title')\n",
    "    for el in els:\n",
    "        try:\n",
    "            book_name = el.find_element_by_class_name('value').text\n",
    "            book_link = el.find_element_by_class_name('value').find_element_by_tag_name('a').get_attribute('href')\n",
    "            this_data = pd.DataFrame([[book_name, book_link]], columns=column_names)\n",
    "            data = data.append(this_data, ignore_index=True)\n",
    "        except:\n",
    "            pass\n",
    "    return data"
   ]
  },
  {
   "cell_type": "markdown",
   "metadata": {},
   "source": [
    "## Web Scraping Protocol"
   ]
  },
  {
   "cell_type": "markdown",
   "metadata": {},
   "source": [
    "### Logging in"
   ]
  },
  {
   "cell_type": "code",
   "execution_count": null,
   "metadata": {},
   "outputs": [],
   "source": [
    "# Step 1.  Opening a blank webpage\n",
    "driver = webdriver.Chrome(executable_path=EXE_PATH)\n",
    "# Step 2. Signing in\n",
    "go_to_page(driver,\n",
    "           pagename='https://www.goodreads.com/user/sign_in')\n",
    "goodreads_login(driver,\n",
    "                username=USERNAME,\n",
    "                password=PASSWORD)\n"
   ]
  },
  {
   "cell_type": "markdown",
   "metadata": {},
   "source": [
    "### Getting to the Friends tab"
   ]
  },
  {
   "cell_type": "code",
   "execution_count": null,
   "metadata": {},
   "outputs": [],
   "source": [
    "go_to_page(driver,\n",
    "           pagename='https://www.goodreads.com/friend')\n"
   ]
  },
  {
   "cell_type": "markdown",
   "metadata": {},
   "source": [
    "### Extracting information about friends and their book"
   ]
  },
  {
   "cell_type": "code",
   "execution_count": null,
   "metadata": {},
   "outputs": [],
   "source": [
    "# Step 1. Create the global storage space to store information about friends\n",
    "column_names = ['Book Name', 'Book Link']\n",
    "all_book_data = pd.DataFrame(columns=column_names)\n",
    "\n",
    "# Step 2. Creating some flags to mark the process\n",
    "CLASS_NAME = 'next_page'\n",
    "next_icon = True # Checking when to stop navigation through friends lists\n",
    "N_FRIENDS = 0 # Counting the number of friends analyzed\n",
    "\n",
    "# Step 3. Scraping through all friends\n",
    "while next_icon:\n",
    "    \n",
    "    # Getting the list friends featured on this page\n",
    "    friends = driver.find_elements_by_class_name('userLink')\n",
    "    \n",
    "    # Iterating through each friend\n",
    "    for friend in friends:\n",
    "        \n",
    "        N_FRIENDS +=1\n",
    "        \n",
    "        # Getting the profile link of each friend\n",
    "        href = friend.get_attribute('href')\n",
    "        # Extracting the userid of the friend\n",
    "        userid = regex_token(href, 'show/', '-')\n",
    "        \n",
    "        # Getting the link for their 'Read' shelf\n",
    "        new_link = \"https://www.goodreads.com/review/list/{}?shelf=read\".format(userid)\n",
    "        # Open new tab for each friend's read list\n",
    "        n_tabs = len(driver.window_handles)\n",
    "        open_new_tab(driver, new_link, n_tabs)\n",
    "        \n",
    "        # Getting information from friend's reading list\n",
    "        # Get the first twenty books\n",
    "        books = get_books_on_page(driver)\n",
    "        all_book_data = all_book_data.append(books, ignore_index=True)\n",
    "        \n",
    "        # Close the tab for friends reading list\n",
    "        driver.close()\n",
    "        driver.switch_to_window(driver.window_handles[n_tabs - 1])\n",
    "        \n",
    "    # Go to next page if it exists\n",
    "    next_icon = click_till_disabled(driver, CLASS_NAME)"
   ]
  },
  {
   "cell_type": "markdown",
   "metadata": {},
   "source": [
    "### Getting genres related to each book"
   ]
  },
  {
   "cell_type": "code",
   "execution_count": null,
   "metadata": {},
   "outputs": [],
   "source": [
    "genres_list = []\n",
    "\n",
    "for index, row in all_book_data.iterrows():\n",
    "    \n",
    "    genres = get_book_genre(driver, row['Book Link'])\n",
    "    all_book_data.loc[index,'Genre'] = ','.join(genres)\n",
    "    genres_list.extend(genres)"
   ]
  },
  {
   "cell_type": "markdown",
   "metadata": {},
   "source": [
    "### Post-processing"
   ]
  },
  {
   "cell_type": "code",
   "execution_count": null,
   "metadata": {},
   "outputs": [],
   "source": [
    "# Writing to file\n",
    "all_book_data.to_csv('data.csv')"
   ]
  },
  {
   "cell_type": "code",
   "execution_count": null,
   "metadata": {},
   "outputs": [],
   "source": [
    "# Gettign the most common genres\n",
    "genre_data = pd.DataFrame(genres_list, columns=['Genre'])\n",
    "genre_data['Genre'].value_counts()"
   ]
  },
  {
   "cell_type": "code",
   "execution_count": null,
   "metadata": {},
   "outputs": [],
   "source": [
    "# Getting the most common names\n",
    "all_book_data['Book Name'].value_counts()"
   ]
  }
 ],
 "metadata": {
  "kernelspec": {
   "display_name": "Python 3",
   "language": "python",
   "name": "python3"
  },
  "language_info": {
   "codemirror_mode": {
    "name": "ipython",
    "version": 3
   },
   "file_extension": ".py",
   "mimetype": "text/x-python",
   "name": "python",
   "nbconvert_exporter": "python",
   "pygments_lexer": "ipython3",
   "version": "3.7.1"
  },
  "toc": {
   "base_numbering": 1,
   "nav_menu": {},
   "number_sections": true,
   "sideBar": true,
   "skip_h1_title": false,
   "title_cell": "Table of Contents",
   "title_sidebar": "Contents",
   "toc_cell": false,
   "toc_position": {},
   "toc_section_display": true,
   "toc_window_display": false
  }
 },
 "nbformat": 4,
 "nbformat_minor": 2
}
