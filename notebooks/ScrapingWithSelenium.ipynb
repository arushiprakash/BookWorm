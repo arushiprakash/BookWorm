{
 "cells": [
  {
   "cell_type": "code",
   "execution_count": null,
   "metadata": {},
   "outputs": [],
   "source": []
  },
  {
   "cell_type": "code",
   "execution_count": 1,
   "metadata": {},
   "outputs": [],
   "source": [
    "from selenium import webdriver\n",
    "import pandas as pd\n",
    "import re\n",
    "\n",
    "EXE_PATH = \"/Users/aprakash/Documents/personal/chromedriver\""
   ]
  },
  {
   "cell_type": "code",
   "execution_count": 2,
   "metadata": {},
   "outputs": [],
   "source": [
    "def goodreads_login(driver, username, password):\n",
    "    \"\"\"\n",
    "    Login using credentials\n",
    "    \"\"\"\n",
    "    driver.find_element_by_id(\"user_email\").send_keys('arushi.prakash307@gmail.com')\n",
    "    driver.find_element_by_id(\"user_password\").send_keys(\"stupid@123\")\n",
    "    driver.find_element_by_name(\"next\").click()\n",
    "    \n",
    "def go_to_page(driver, pagename):\n",
    "    \"\"\"\n",
    "    Head to the webpage of choice\n",
    "    \"\"\"\n",
    "    driver.get(pagename)\n",
    "    \n",
    "def click_till_disabled(driver, class_name):\n",
    "    \"\"\"\n",
    "    Given that the page is open, finds the first element\n",
    "    of class name and clicks on it, returns True.\n",
    "    If element is not found, returns False.\n",
    "    \"\"\"\n",
    "    import selenium.common.exceptions as selexcept \n",
    "    try:\n",
    "        els = driver.find_element_by_class_name(class_name)\n",
    "        if 'disabled' in els.get_attribute('class'):\n",
    "            return False\n",
    "        els.click()\n",
    "    except selexcept.NoSuchElementException:\n",
    "        return False\n",
    "    return True\n"
   ]
  },
  {
   "cell_type": "code",
   "execution_count": 3,
   "metadata": {},
   "outputs": [],
   "source": [
    "def open_new_tab(driver, page_name, tab_location):\n",
    "    \"\"\"\n",
    "    Opens a new tab and switches focus to it, given the tab location\n",
    "    \"\"\"\n",
    "    # Opened a new tab\n",
    "    driver.execute_script('''window.open(\"about:blank\", \"_blank\");''')\n",
    "    # Switched focus to the new tab\n",
    "    driver.switch_to_window(driver.window_handles[tab_location])\n",
    "    # Opened the user profile\n",
    "    driver.get(page_name)"
   ]
  },
  {
   "cell_type": "code",
   "execution_count": 4,
   "metadata": {},
   "outputs": [],
   "source": [
    "def regex_token(text, prefix, suffix):\n",
    "    \"\"\"\n",
    "    Given a user_id link in GoodReads format, extract userid\n",
    "    \"\"\"\n",
    "    extracted_ = re.search(prefix+r'(.*?)'+suffix, text).group(1)\n",
    "    return extracted_"
   ]
  },
  {
   "cell_type": "code",
   "execution_count": null,
   "metadata": {},
   "outputs": [],
   "source": [
    "def get_book_genre(driver, href):\n",
    "    \"\"\"\n",
    "    Open a book tab and extract the genres, and return csv delimited list\n",
    "    \"\"\"\n",
    "    n_tabs = len(driver.window_handles)\n",
    "    open_new_tab(driver, href, n_tabs)\n",
    "    \n",
    "    els = driver.find_elements_by_class_name('actionLinkLite.bookPageGenreLink')\n",
    "    genres = []\n",
    "    for el in els:\n",
    "        if 'users' not in el.text:\n",
    "            genres.append(el.text)\n",
    "\n",
    "    driver.close()\n",
    "    driver.switch_to_window(driver.window_handles[n_tabs - 1])\n",
    "    return genres\n",
    "    \n",
    "def get_books_on_page(driver):\n",
    "    \"\"\"\n",
    "    Given a books list page, return all the book names\n",
    "    \"\"\"\n",
    "    \n",
    "    column_names = ['Book Name', 'Book Link']\n",
    "    data = pd.DataFrame(columns=column_names)\n",
    "    els = driver.find_elements_by_class_name('field.title')\n",
    "    for el in els:\n",
    "        try:\n",
    "            book_name = el.find_element_by_class_name('value').text\n",
    "            book_link = el.find_element_by_class_name('value').find_element_by_tag_name('a').get_attribute('href')\n",
    "            this_data = pd.DataFrame([[book_name, book_link]], columns=column_names)\n",
    "            data = data.append(this_data, ignore_index=True)\n",
    "        except:\n",
    "            pass\n",
    "    return data"
   ]
  },
  {
   "cell_type": "code",
   "execution_count": null,
   "metadata": {},
   "outputs": [
    {
     "name": "stderr",
     "output_type": "stream",
     "text": [
      "/Users/aprakash/anaconda3/lib/python3.7/site-packages/ipykernel_launcher.py:8: DeprecationWarning: use driver.switch_to.window instead\n",
      "  \n",
      "/Users/aprakash/anaconda3/lib/python3.7/site-packages/ipykernel_launcher.py:34: DeprecationWarning: use driver.switch_to.window instead\n"
     ]
    }
   ],
   "source": [
    "#Step by Step\n",
    "# Step 1.  Go to the login page and sign in\n",
    "driver = webdriver.Chrome(executable_path=EXE_PATH)\n",
    "go_to_page(driver,\n",
    "           pagename='https://www.goodreads.com/user/sign_in')\n",
    "goodreads_login(driver,\n",
    "                username=\"\",\n",
    "                password=\"\")\n",
    "# Step 2. Go to friends page to iterate over all friends\n",
    "go_to_page(driver,\n",
    "           pagename='https://www.goodreads.com/friend')\n",
    "# Step 3. For each friend, extract userid and go to their read list\n",
    "column_names = ['Book Name', 'Book Link']\n",
    "all_book_data = pd.DataFrame(columns=column_names)\n",
    "CLASS_NAME = 'next_page'\n",
    "next_icon = True\n",
    "N_FRIENDS = 0\n",
    "while next_icon:\n",
    "    # Analyze each friend in this page\n",
    "    friends = driver.find_elements_by_class_name('userLink')\n",
    "    for friend in friends:\n",
    "        N_FRIENDS +=1\n",
    "        href = friend.get_attribute('href')\n",
    "        userid = regex_token(href, 'show/', '-')\n",
    "        new_link = \"https://www.goodreads.com/review/list/{}?shelf=read\".format(userid)\n",
    "        # Open new tab for each friend's read list\n",
    "        n_tabs = len(driver.window_handles)\n",
    "        open_new_tab(driver, new_link, n_tabs)\n",
    "        # Get the first twenty books\n",
    "        books = get_books_on_page(driver)\n",
    "        all_book_data = all_book_data.append(books, ignore_index=True)\n",
    "        # Close the tab for friends reading list\n",
    "        driver.close()\n",
    "        driver.switch_to_window(driver.window_handles[n_tabs - 1])\n",
    "        \n",
    "    # Go to next page if it exists\n",
    "    next_icon = click_till_disabled(driver, CLASS_NAME)\n",
    "# Sample page: https://www.goodreads.com/review/list/63180448?shelf=read\n",
    "\n"
   ]
  },
  {
   "cell_type": "code",
   "execution_count": null,
   "metadata": {},
   "outputs": [
    {
     "name": "stderr",
     "output_type": "stream",
     "text": [
      "/Users/aprakash/anaconda3/lib/python3.7/site-packages/ipykernel_launcher.py:8: DeprecationWarning: use driver.switch_to.window instead\n",
      "  \n",
      "/Users/aprakash/anaconda3/lib/python3.7/site-packages/ipykernel_launcher.py:15: DeprecationWarning: use driver.switch_to.window instead\n",
      "  from ipykernel import kernelapp as app\n"
     ]
    }
   ],
   "source": [
    "# Step 4. For the book names collected, get the genres\n",
    "genres_list = []\n",
    "for index, row in all_book_data.iterrows():\n",
    "    #print(row['Book Link'])\n",
    "    genres = get_book_genre(driver, row['Book Link'])\n",
    "    all_book_data.loc[index,'Genre'] = ','.join(genres)\n",
    "    genres_list.extend(genres)"
   ]
  },
  {
   "cell_type": "code",
   "execution_count": null,
   "metadata": {},
   "outputs": [],
   "source": [
    "# Just write it all to csv to save whatever I have\n",
    "all_book_data.to_csv('data.csv')"
   ]
  },
  {
   "cell_type": "code",
   "execution_count": null,
   "metadata": {},
   "outputs": [],
   "source": [
    "#driver = webdriver.Chrome(executable_path=EXE_PATH)\n",
    "#go_to_page(driver,\n",
    "#           pagename='https://www.goodreads.com/user/sign_in')\n",
    "#goodreads_login(driver,\n",
    "#                username=\"\",\n",
    "#                password=\"\")\n"
   ]
  },
  {
   "cell_type": "code",
   "execution_count": null,
   "metadata": {},
   "outputs": [],
   "source": [
    "genre_data = pd.DataFrame(genres_list, columns=['Genre'])\n",
    "genre_data['Genre'].value_counts()"
   ]
  },
  {
   "cell_type": "code",
   "execution_count": null,
   "metadata": {},
   "outputs": [],
   "source": [
    "all_book_data['Book Name'].value_counts()"
   ]
  },
  {
   "cell_type": "code",
   "execution_count": null,
   "metadata": {},
   "outputs": [],
   "source": []
  }
 ],
 "metadata": {
  "kernelspec": {
   "display_name": "Python 3",
   "language": "python",
   "name": "python3"
  },
  "language_info": {
   "codemirror_mode": {
    "name": "ipython",
    "version": 3
   },
   "file_extension": ".py",
   "mimetype": "text/x-python",
   "name": "python",
   "nbconvert_exporter": "python",
   "pygments_lexer": "ipython3",
   "version": "3.7.1"
  },
  "toc": {
   "base_numbering": 1,
   "nav_menu": {},
   "number_sections": true,
   "sideBar": true,
   "skip_h1_title": false,
   "title_cell": "Table of Contents",
   "title_sidebar": "Contents",
   "toc_cell": false,
   "toc_position": {},
   "toc_section_display": true,
   "toc_window_display": false
  }
 },
 "nbformat": 4,
 "nbformat_minor": 2
}
