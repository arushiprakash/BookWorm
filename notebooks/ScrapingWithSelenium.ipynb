{
 "cells": [
  {
   "cell_type": "code",
   "execution_count": null,
   "metadata": {},
   "outputs": [],
   "source": []
  },
  {
   "cell_type": "code",
   "execution_count": 1,
   "metadata": {},
   "outputs": [],
   "source": [
    "from selenium import webdriver\n",
    "import re\n",
    "\n",
    "EXE_PATH = \"/Users/aprakash/Documents/personal/chromedriver\"\n",
    "driver = webdriver.Chrome(executable_path=EXE_PATH)"
   ]
  },
  {
   "cell_type": "code",
   "execution_count": 2,
   "metadata": {},
   "outputs": [],
   "source": [
    "def goodreads_login(driver, username, password):\n",
    "    \"\"\"\n",
    "    Login using credentials\n",
    "    \"\"\"\n",
    "    driver.find_element_by_id(\"user_email\").send_keys('arushi.prakash307@gmail.com')\n",
    "    driver.find_element_by_id(\"user_password\").send_keys(\"stupid@123\")\n",
    "    driver.find_element_by_name(\"next\").click()\n",
    "    \n",
    "def go_to_page(driver, pagename):\n",
    "    \"\"\"\n",
    "    Head to the webpage of choice\n",
    "    \"\"\"\n",
    "    driver.get(pagename)\n",
    "    \n",
    "def click_till_disabled(driver, class_name):\n",
    "    \"\"\"\n",
    "    Given that the page is open, finds the first element\n",
    "    of class name and clicks on it, returns True.\n",
    "    If element is not found, returns False.\n",
    "    \"\"\"\n",
    "    import selenium.common.exceptions as selexcept \n",
    "    try:\n",
    "        els = driver.find_element_by_class_name(class_name)\n",
    "        if 'disabled' in els.get_attribute('class'):\n",
    "            return False\n",
    "        els.click()\n",
    "    except selexcept.NoSuchElementException:\n",
    "        return False\n",
    "    return True\n"
   ]
  },
  {
   "cell_type": "code",
   "execution_count": 3,
   "metadata": {},
   "outputs": [],
   "source": [
    "def open_new_tab(driver, page_name, tab_location):\n",
    "    \"\"\"\n",
    "    Opens a new tab and switches focus to it, given the tab location\n",
    "    \"\"\"\n",
    "    # Opened a new tab\n",
    "    driver.execute_script('''window.open(\"about:blank\", \"_blank\");''')\n",
    "    # Switched focus to the new tab\n",
    "    driver.switch_to_window(driver.window_handles[tab_location])\n",
    "    # Opened the user profile\n",
    "    driver.get(page_name)"
   ]
  },
  {
   "cell_type": "code",
   "execution_count": 4,
   "metadata": {},
   "outputs": [],
   "source": [
    "def extract_userid(page_name):\n",
    "    \"\"\"\n",
    "    Given a user_id link in GoodReads format, extract userid\n",
    "    \"\"\"\n",
    "    userid = re.search(r'show/(.*?)-', page_name).group(1)\n",
    "    return userid"
   ]
  },
  {
   "cell_type": "code",
   "execution_count": 13,
   "metadata": {},
   "outputs": [],
   "source": [
    "def get_books_on_page(driver):\n",
    "    \"\"\"\n",
    "    Given a books list page, return all the book names\n",
    "    \"\"\"\n",
    "    books = []\n",
    "    els = driver.find_elements_by_class_name('field.title')\n",
    "    for el in els:\n",
    "        try:\n",
    "            books.append(el.find_element_by_class_name('value').text)\n",
    "        except:\n",
    "            pass\n",
    "    return books"
   ]
  },
  {
   "cell_type": "code",
   "execution_count": 14,
   "metadata": {},
   "outputs": [
    {
     "name": "stderr",
     "output_type": "stream",
     "text": [
      "/Users/aprakash/anaconda3/lib/python3.7/site-packages/ipykernel_launcher.py:8: DeprecationWarning: use driver.switch_to.window instead\n",
      "  \n"
     ]
    },
    {
     "name": "stdout",
     "output_type": "stream",
     "text": [
      "['Bayside Opposites (The Hunters, #10)', \"It's Not What It Looks Like\", 'Christmas on Candy Cane Lane (Life in Icicle Falls Book 8)', 'Carve the Mark (Carve the Mark, #1)', 'Shrill: Notes from a Loud Woman', 'How to Speak Dragonese (How to Train Your Dragon, #3)', 'Kidnapped (Everyday Heroes #4)', 'How to Be a Pirate (How to Train Your Dragon, #2)', 'Trapped (Everyday Heroes Book 3)', 'Obsessed (Everyday Heroes #2)', 'Hunted (Everyday Heroes #1)', 'Running Home (Second Chances, #1)', 'Fallen Witch (Spellbound Murder, #3)', 'Grim Magic (Spellbound Murder, #2)', 'Oath Bound (Spellbound Murder, #1)', 'Kitty Confidential (Pet Whisperer PI #1)', 'Last Man Standing', 'Long Road to Mercy (Atlee Pine, #1)', 'Between the Reins (Gold Valley Romance #4)', 'Through the Mist (Gold Valley Romance #3)']\n"
     ]
    }
   ],
   "source": [
    "#Step by Step\n",
    "# Step 1.  Go to the login page and sign in\n",
    "driver = webdriver.Chrome(executable_path=EXE_PATH)\n",
    "go_to_page(driver,\n",
    "           pagename='https://www.goodreads.com/user/sign_in')\n",
    "goodreads_login(driver,\n",
    "                username=\"\",\n",
    "                password=\"\")\n",
    "# Step 2. Go to friends page to iterate over all friends\n",
    "go_to_page(driver,\n",
    "           pagename='https://www.goodreads.com/friend')\n",
    "# Step 3. For each friend, extract userid and go to their read list\n",
    "CLASS_NAME = 'next_page'\n",
    "next_icon = True\n",
    "while next_icon:\n",
    "    # Analyze each friend in this page\n",
    "    friends = driver.find_elements_by_class_name('userLink')\n",
    "    for friend in friends:\n",
    "        href = friend.get_attribute('href')\n",
    "        userid = extract_userid(href)\n",
    "        new_link = \"https://www.goodreads.com/review/list/{}?shelf=read\".format(userid)\n",
    "        # Open new tab for each friend's read list\n",
    "        open_new_tab(driver, new_link, 1)\n",
    "        # Get the first twenty books\n",
    "        books = get_books_on_page(driver)\n",
    "        print(books)\n",
    "        # Close the tab for friends reading list\n",
    "        driver.close()\n",
    "        break;\n",
    "    # Go to next page if it exists\n",
    "    break;\n",
    "    next_icon = click_till_disabled(driver, CLASS_NAME)\n",
    "# Sample page: https://www.goodreads.com/review/list/63180448?shelf=read\n",
    "# Step 4. For the last 20 books in their list, find the names and find genre of the books"
   ]
  },
  {
   "cell_type": "code",
   "execution_count": null,
   "metadata": {},
   "outputs": [],
   "source": []
  }
 ],
 "metadata": {
  "kernelspec": {
   "display_name": "Python 3",
   "language": "python",
   "name": "python3"
  },
  "language_info": {
   "codemirror_mode": {
    "name": "ipython",
    "version": 3
   },
   "file_extension": ".py",
   "mimetype": "text/x-python",
   "name": "python",
   "nbconvert_exporter": "python",
   "pygments_lexer": "ipython3",
   "version": "3.7.1"
  },
  "toc": {
   "base_numbering": 1,
   "nav_menu": {},
   "number_sections": true,
   "sideBar": true,
   "skip_h1_title": false,
   "title_cell": "Table of Contents",
   "title_sidebar": "Contents",
   "toc_cell": false,
   "toc_position": {},
   "toc_section_display": true,
   "toc_window_display": false
  }
 },
 "nbformat": 4,
 "nbformat_minor": 2
}
